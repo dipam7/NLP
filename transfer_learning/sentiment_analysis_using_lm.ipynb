{
 "cells": [
  {
   "cell_type": "code",
   "execution_count": 1,
   "metadata": {
    "_cell_guid": "b1076dfc-b9ad-4769-8c92-a6c4dae69d19",
    "_uuid": "8f2839f25d086af736a60e9eeb907d3b93b6e0e5"
   },
   "outputs": [],
   "source": [
    "from fastai.text import *"
   ]
  },
  {
   "cell_type": "code",
   "execution_count": 2,
   "metadata": {
    "_cell_guid": "79c7e3d0-c299-4dcb-8224-4455121ee9b0",
    "_uuid": "d629ff2d2480ee46fbb7e2d37f6b5fab8052498a"
   },
   "outputs": [],
   "source": [
    "path = \"../input/review_polarity/txt_sentoken/\""
   ]
  },
  {
   "cell_type": "code",
   "execution_count": 3,
   "metadata": {
    "_uuid": "0fe6623a09b11a118a62bf639827511e1c233e92"
   },
   "outputs": [],
   "source": [
    "bs = 48"
   ]
  },
  {
   "cell_type": "code",
   "execution_count": 4,
   "metadata": {
    "_uuid": "dc4772207f9b72a3d23d17db16f46cd13b416e12"
   },
   "outputs": [],
   "source": [
    "np.random.seed(42)\n",
    "data = (TextList.from_folder(path)\n",
    "                        .split_by_rand_pct(0.1)\n",
    "                        .label_from_folder()\n",
    "                        .databunch(bs=bs))"
   ]
  },
  {
   "cell_type": "code",
   "execution_count": 5,
   "metadata": {
    "_uuid": "f9d1c36f500a094caff59a70a9c649ffac2fc1a7"
   },
   "outputs": [],
   "source": [
    "data.save(\"/kaggle/working/data.pkl\")"
   ]
  },
  {
   "cell_type": "code",
   "execution_count": 6,
   "metadata": {
    "_uuid": "1353f963c6d30076000c30cd9ce8ebc4e78e2983"
   },
   "outputs": [
    {
     "data": {
      "text/html": [
       "<table border=\"1\" class=\"dataframe\">\n",
       "  <thead>\n",
       "    <tr style=\"text-align: right;\">\n",
       "      <th>text</th>\n",
       "      <th>target</th>\n",
       "    </tr>\n",
       "  </thead>\n",
       "  <tbody>\n",
       "    <tr>\n",
       "      <td>xxbos \" say , any of you know how to madison ? \" \\n  --- brad \" asshole \" majors ( barry bostwick ) shows just how unhip he is after watching the kooky xxunk wrap up their ode to the time warp in the cult classic the rocky horror picture show . \\n  the story behind the rocky horror picture show is one of legend . \\n</td>\n",
       "      <td>pos</td>\n",
       "    </tr>\n",
       "    <tr>\n",
       "      <td>xxbos i remember seeing the trailer of the black cauldron on the pinocchio video . \\n  it really scared me , and i did n't want to go see it . \\n  however , after i heard about how wonderful it was , i wanted to see it . \\n  i did n't get a chance to do so , until now . \\n  the film</td>\n",
       "      <td>pos</td>\n",
       "    </tr>\n",
       "    <tr>\n",
       "      <td>xxbos natural born killers is really a very simple story that , in essence , has already been told in bonnie &amp; clyde with some major variations in emphasis , mood and degree . \\n  both films xxunk \" outlaws , \" in one case bank robbers and killers and in the other mass murderers . \\n  both relate the story of a couple liberated by love .</td>\n",
       "      <td>pos</td>\n",
       "    </tr>\n",
       "    <tr>\n",
       "      <td>xxbos * * * the following review contains spoilers * * * \\n  \" it 's just . . . \\n  the way . . . \\n  we are . \" \\n  --- a rapist ( matt xxunk ) responds to supergirl 's ( helen slater ) xxunk as to why she 's being attacked , an example of the mind - numbingly bad dialogue in</td>\n",
       "      <td>neg</td>\n",
       "    </tr>\n",
       "    <tr>\n",
       "      <td>xxbos seen may 19 , 1999 at 5 p . m . at the crossgates cinema 18 ( guilderland , n . y . ) , theater # 1 , with my brother john for $ 8 . 50 . \\n  [ theater rating : * * * * : excellent seats , sound and picture ] \\n  ( critic 's note : this review is the longest</td>\n",
       "      <td>pos</td>\n",
       "    </tr>\n",
       "  </tbody>\n",
       "</table>"
      ],
      "text/plain": [
       "<IPython.core.display.HTML object>"
      ]
     },
     "metadata": {},
     "output_type": "display_data"
    }
   ],
   "source": [
    "data.show_batch()"
   ]
  },
  {
   "cell_type": "code",
   "execution_count": 7,
   "metadata": {
    "_uuid": "67d15480a1a7c08ff1e666bf8fcf22b02e913909"
   },
   "outputs": [
    {
     "data": {
      "text/plain": [
       "['xxunk',\n",
       " 'xxpad',\n",
       " 'xxbos',\n",
       " 'xxeos',\n",
       " 'xxfld',\n",
       " 'xxmaj',\n",
       " 'xxup',\n",
       " 'xxrep',\n",
       " 'xxwrep',\n",
       " ',']"
      ]
     },
     "execution_count": 7,
     "metadata": {},
     "output_type": "execute_result"
    }
   ],
   "source": [
    "data.vocab.itos[:10]"
   ]
  },
  {
   "cell_type": "code",
   "execution_count": 8,
   "metadata": {
    "_uuid": "79d5361fbc2b6f3f2df872407048bd9f55fd6caf"
   },
   "outputs": [
    {
     "data": {
      "text/plain": [
       "Text xxbos it is hard to imagine that a movie which includes abortion and incest as prominent plot devices could be so sensitive , so delicate , so insightful and yes , even so enjoyable . \n",
       "  somehow , the cider house rules manages to keep an even xxunk in the face of the harsh subject matter and allows a substantial amount of heart to shine through . \n",
       "  set in the 1940 's , the film tells the story of a unique young man named homer wells ( tobey maguire , ride with the devil ) . \n",
       "  an orphan , twice rejected as an xxunk by possible adoptive parents , he grows up in the care and under the tutelage of dr . xxunk larch ( michael caine , little voice ) , father figure to the orphans of st . cloud , obstetrician or xxunk to the unhappily pregnant women who come there seeking his help . \n",
       "  figuring that as long as homer was going to stay at the orphanage , he might as well be of use , dr . larch begins teaching him all he knows about xxunk . \n",
       "  soon homer is delivering babies like a professional . \n",
       "  he refuses to perform xxunk , instead wondering why the couples just did n't behave more xxunk . \n",
       "  larch , too old and experienced to have such youthful ideals , xxunk that homer \" continues to have such high expectations of people . \" \n",
       "  such is the result of an xxunk upbringing . \n",
       "  though skilled in certain medical procedures , homer remains woefully naive and ignorant about most everything else . \n",
       "  he finally figures that in order to find his place in the world , he must go out into it . \n",
       "  befriending a young couple who had come to see dr . larch , he xxunk a ride with them and xxunk that into landing a job as an apple xxunk with a group of black migrant workers at the xxunk where they lived . \n",
       "  thus , homer begins his worldly xxunk , with new friend candy xxunk ( charlize theron , the astronaut 's wife ) a willing tutor . \n",
       "  tobey maguire is well cast yet again as an inherently good man who is seeking answers to life 's questions . . . \n",
       "  many of which he was unaware needed to be asked . \n",
       "  he demonstrates a quiet strength and thoughtful curiosity that is both warm and appealing . \n",
       "  michael caine is , in a word , brilliant as the caring caretaker of these orphans , many of whom he helped to bring into the world . \n",
       "  calling them \" xxunk of maine , kings of new england \" in his ritualistic goodnight , mr . caine manages to communicate the love and commitment larch has towards these children without becoming maudlin or saccharine . \n",
       "  delroy lindo ( a life less ordinary ) has many powerful moments as mr . rose , the strong and charismatic leader of the apple xxunk whom homer joins . \n",
       "  director lasse hallstrom ( what 's eating gilbert grape ? ) and screenwriter / novelist john irving ( the world according to xxunk ) , who adapted his own work for this movie deserve much of the credit for the balanced approach to the sensitive subject matter . \n",
       "  regardless of one 's personal stand on the xxunk matter of abortion , it is hard to imagine anyone becoming offended by the xxunk treatment used by these filmmakers . \n",
       "  the title is a reference to a list of rules posted in the quarters of the illiterate apple xxunk . \n",
       "  figuring the rules did n't apply to them since they did n't have a hand in writing them , they decide to ignore the list and make up their own rules as they go along . \n",
       "  dr . larch , in his own way , acts similarly . \n",
       "  there is a danger in that line of reasoning . \n",
       "  god has also given us a set of rules . \n",
       "  unlike the list posted in the cider house , god 's rules , if followed , promise us benefits beyond our imagination . \n",
       "  and yet , many continue to ignore his \" rules \" preferring to make up their own as they go through life . \n",
       "  \" trust in the lord with all xxunk heart ; and lean not unto xxunk own understanding . \" \n",
       "  xxunk 3 : 5 [ kjv ] \n",
       "  just as a builder follows a designer 's blueprint or a conductor follows a composer 's score , why should n't we follow the rules of life given to us by life 's architect for our own blessing ? \n",
       " "
      ]
     },
     "execution_count": 8,
     "metadata": {},
     "output_type": "execute_result"
    }
   ],
   "source": [
    "data.train_ds[0][0]"
   ]
  },
  {
   "cell_type": "code",
   "execution_count": 9,
   "metadata": {
    "_uuid": "d97f4cd307104a41f2ac4bdca3fb4dfb0e3e5171"
   },
   "outputs": [
    {
     "data": {
      "text/plain": [
       "array([   2,   21,   17,  266,   16, 1126,   22,   13,   42,   64])"
      ]
     },
     "execution_count": 9,
     "metadata": {},
     "output_type": "execute_result"
    }
   ],
   "source": [
    "data.train_ds[0][0].data[:10]"
   ]
  },
  {
   "cell_type": "code",
   "execution_count": 10,
   "metadata": {
    "_uuid": "4a57c2720cc7faac08d9b9c886343649bb16e1d0"
   },
   "outputs": [],
   "source": [
    "np.random.seed(42)\n",
    "data_lm = (TextList.from_folder(path)\n",
    "                        .split_by_rand_pct(0.1)\n",
    "                        .label_for_lm()\n",
    "                        .databunch(bs=bs))"
   ]
  },
  {
   "cell_type": "code",
   "execution_count": 11,
   "metadata": {
    "_uuid": "4166fc195fd1c99baef7b5a7b15329a46d6baacb"
   },
   "outputs": [
    {
     "data": {
      "text/html": [
       "<table border=\"1\" class=\"dataframe\">\n",
       "  <thead>\n",
       "    <tr style=\"text-align: right;\">\n",
       "      <th>idx</th>\n",
       "      <th>text</th>\n",
       "    </tr>\n",
       "  </thead>\n",
       "  <tbody>\n",
       "    <tr>\n",
       "      <td>0</td>\n",
       "      <td>the 1940 's , the film tells the story of a unique young man named homer wells ( tobey maguire , ride with the devil ) . \\n  an orphan , twice rejected as an xxunk by possible adoptive parents , he grows up in the care and under the tutelage of dr . xxunk larch ( michael caine , little voice ) , father figure to the orphans</td>\n",
       "    </tr>\n",
       "    <tr>\n",
       "      <td>1</td>\n",
       "      <td>single building exploded . \\n  this , hartley 's seventh feature , is contemplative about \" the artist \" ; fortunately , we never get a sampling of simon 's work , and it 's a testament to the actors and the screenplay that by the end we can surmise what sort of thoughts would pour from these writers ' xxunk . \\n  xxbos kevin smith is like</td>\n",
       "    </tr>\n",
       "    <tr>\n",
       "      <td>2</td>\n",
       "      <td>wife 's tuna xxunk . \\n  \" so , \" you ask , \" where is he now ? \" \\n  mr . kaplan actually spends much of his time these days playing professional high - stakes poker . \\n  that 's right . \\n  i 'm not sure if it 's his main source of income , but from what i 've heard , the</td>\n",
       "    </tr>\n",
       "    <tr>\n",
       "      <td>3</td>\n",
       "      <td>was neat . \\n  having said that , i did n't think the first hour needed to be as long as it was , and the film did have me tinkering on the bridge of believability when the \" fake \" jackal met with the \" real \" jackal 's girlfriend without much xxunk on her part , but all in all , not too many complaints in a</td>\n",
       "    </tr>\n",
       "    <tr>\n",
       "      <td>4</td>\n",
       "      <td>everyone involved . \\n  let 's just hope they make a thousand sequels . \\n  [ sorry , i had to get the lame joke in . . . \\n  forgive me . ] \\n  xxbos originally entitled dancing about architecture ( i . e . \\n  \" talking about love is like dancing about architecture \" ) , but changed because it sounded too</td>\n",
       "    </tr>\n",
       "  </tbody>\n",
       "</table>"
      ],
      "text/plain": [
       "<IPython.core.display.HTML object>"
      ]
     },
     "metadata": {},
     "output_type": "display_data"
    }
   ],
   "source": [
    "data_lm.show_batch()"
   ]
  },
  {
   "cell_type": "code",
   "execution_count": 12,
   "metadata": {
    "_uuid": "f4fff0930723ca805facb8baa08a1b92e283e7e3"
   },
   "outputs": [],
   "source": [
    "learn = language_model_learner(data_lm, arch=AWD_LSTM, drop_mult=0.3, model_dir=\"/tmp/model/\")"
   ]
  },
  {
   "cell_type": "code",
   "execution_count": 13,
   "metadata": {
    "_uuid": "9c18fffe4192b6719926e5ffd0edc9358611880c"
   },
   "outputs": [
    {
     "data": {
      "text/html": [],
      "text/plain": [
       "<IPython.core.display.HTML object>"
      ]
     },
     "metadata": {},
     "output_type": "display_data"
    },
    {
     "name": "stdout",
     "output_type": "stream",
     "text": [
      "LR Finder is complete, type {learner_name}.recorder.plot() to see the graph.\n"
     ]
    }
   ],
   "source": [
    "learn.lr_find()"
   ]
  },
  {
   "cell_type": "code",
   "execution_count": 14,
   "metadata": {
    "_uuid": "cb3e4ac4e89bb5e2280128973099fdf065d3d1b6"
   },
   "outputs": [
    {
     "data": {
      "image/png": "[encoded data removed]",
      "text/plain": [
       "<Figure size 432x288 with 1 Axes>"
      ]
     },
     "metadata": {},
     "output_type": "display_data"
    }
   ],
   "source": [
    "learn.recorder.plot(skip_end=15)"
   ]
  },
  {
   "cell_type": "code",
   "execution_count": 15,
   "metadata": {
    "_uuid": "fe847f3a9ff946d284016104cad11820c115c721"
   },
   "outputs": [
    {
     "data": {
      "text/html": [
       "Total time: 00:49 <p><table border=\"1\" class=\"dataframe\">\n",
       "  <thead>\n",
       "    <tr style=\"text-align: left;\">\n",
       "      <th>epoch</th>\n",
       "      <th>train_loss</th>\n",
       "      <th>valid_loss</th>\n",
       "      <th>accuracy</th>\n",
       "      <th>time</th>\n",
       "    </tr>\n",
       "  </thead>\n",
       "  <tbody>\n",
       "    <tr>\n",
       "      <td>0</td>\n",
       "      <td>4.627384</td>\n",
       "      <td>4.365340</td>\n",
       "      <td>0.278990</td>\n",
       "      <td>00:49</td>\n",
       "    </tr>\n",
       "  </tbody>\n",
       "</table>"
      ],
      "text/plain": [
       "<IPython.core.display.HTML object>"
      ]
     },
     "metadata": {},
     "output_type": "display_data"
    }
   ],
   "source": [
    "learn.fit_one_cycle(1, 3e-02, moms=(0.8, 0.7))"
   ]
  },
  {
   "cell_type": "code",
   "execution_count": 16,
   "metadata": {
    "_uuid": "ba7135a868ca8b6904e2a38bf9af8af022bf2468"
   },
   "outputs": [
    {
     "data": {
      "text/html": [],
      "text/plain": [
       "<IPython.core.display.HTML object>"
      ]
     },
     "metadata": {},
     "output_type": "display_data"
    },
    {
     "name": "stdout",
     "output_type": "stream",
     "text": [
      "LR Finder is complete, type {learner_name}.recorder.plot() to see the graph.\n"
     ]
    },
    {
     "data": {
      "image/png": "[encoded data removed]",
      "text/plain": [
       "<Figure size 432x288 with 1 Axes>"
      ]
     },
     "metadata": {},
     "output_type": "display_data"
    }
   ],
   "source": [
    "learn.unfreeze()\n",
    "learn.lr_find()\n",
    "learn.recorder.plot(skip_end=15)"
   ]
  },
  {
   "cell_type": "code",
   "execution_count": 17,
   "metadata": {
    "_uuid": "7a98b109ec617a97ba55d6163810cecf8bd7d128"
   },
   "outputs": [
    {
     "data": {
      "text/html": [
       "\n",
       "    <div>\n",
       "        <style>\n",
       "            /* Turns off some styling */\n",
       "            progress {\n",
       "                /* gets rid of default border in Firefox and Opera. */\n",
       "                border: none;\n",
       "                /* Needs to be in here for Safari polyfill so background images work as expected. */\n",
       "                background-size: auto;\n",
       "            }\n",
       "            .progress-bar-interrupted, .progress-bar-interrupted::-webkit-progress-bar {\n",
       "                background: #F44336;\n",
       "            }\n",
       "        </style>\n",
       "      <progress value='6' class='' max='10', style='width:300px; height:20px; vertical-align: middle;'></progress>\n",
       "      60.00% [6/10 05:52<03:54]\n",
       "    </div>\n",
       "    \n",
       "<table border=\"1\" class=\"dataframe\">\n",
       "  <thead>\n",
       "    <tr style=\"text-align: left;\">\n",
       "      <th>epoch</th>\n",
       "      <th>train_loss</th>\n",
       "      <th>valid_loss</th>\n",
       "      <th>accuracy</th>\n",
       "      <th>time</th>\n",
       "    </tr>\n",
       "  </thead>\n",
       "  <tbody>\n",
       "    <tr>\n",
       "      <td>0</td>\n",
       "      <td>4.148184</td>\n",
       "      <td>4.326283</td>\n",
       "      <td>0.281718</td>\n",
       "      <td>00:58</td>\n",
       "    </tr>\n",
       "    <tr>\n",
       "      <td>1</td>\n",
       "      <td>4.059402</td>\n",
       "      <td>4.266865</td>\n",
       "      <td>0.286838</td>\n",
       "      <td>00:58</td>\n",
       "    </tr>\n",
       "    <tr>\n",
       "      <td>2</td>\n",
       "      <td>4.003819</td>\n",
       "      <td>4.222210</td>\n",
       "      <td>0.291916</td>\n",
       "      <td>00:58</td>\n",
       "    </tr>\n",
       "    <tr>\n",
       "      <td>3</td>\n",
       "      <td>3.894475</td>\n",
       "      <td>4.190765</td>\n",
       "      <td>0.295098</td>\n",
       "      <td>00:58</td>\n",
       "    </tr>\n",
       "    <tr>\n",
       "      <td>4</td>\n",
       "      <td>3.844278</td>\n",
       "      <td>4.166241</td>\n",
       "      <td>0.297328</td>\n",
       "      <td>00:58</td>\n",
       "    </tr>\n",
       "    <tr>\n",
       "      <td>5</td>\n",
       "      <td>3.756064</td>\n",
       "      <td>4.157764</td>\n",
       "      <td>0.298305</td>\n",
       "      <td>00:58</td>\n",
       "    </tr>\n",
       "  </tbody>\n",
       "</table><p>\n",
       "\n",
       "    <div>\n",
       "        <style>\n",
       "            /* Turns off some styling */\n",
       "            progress {\n",
       "                /* gets rid of default border in Firefox and Opera. */\n",
       "                border: none;\n",
       "                /* Needs to be in here for Safari polyfill so background images work as expected. */\n",
       "                background-size: auto;\n",
       "            }\n",
       "            .progress-bar-interrupted, .progress-bar-interrupted::-webkit-progress-bar {\n",
       "                background: #F44336;\n",
       "            }\n",
       "        </style>\n",
       "      <progress value='16' class='' max='435', style='width:300px; height:20px; vertical-align: middle;'></progress>\n",
       "      3.68% [16/435 00:02<00:54 3.7406]\n",
       "    </div>\n",
       "    "
      ],
      "text/plain": [
       "<IPython.core.display.HTML object>"
      ]
     },
     "metadata": {},
     "output_type": "display_data"
    }
   ],
   "source": [
    "learn.fit_one_cycle(10, 3e-04, moms=(0.8, 0.7))"
   ]
  },
  {
   "cell_type": "code",
   "execution_count": 18,
   "metadata": {
    "_uuid": "fc2e385e7172f60dbbfbdba2bcf17b947f74de2f"
   },
   "outputs": [
    {
     "name": "stdout",
     "output_type": "stream",
     "text": [
      "Avengers is a  series of pictures that have been showing on television for over a century . \n",
      "  like the first one , \" scream 2 \" 's title is \" cape city\n",
      "Avengers is a  film that takes place in the near future when the avengers is being released . \n",
      "  at first , the camera is so utterly unbelievable that it 's just too\n"
     ]
    }
   ],
   "source": [
    "TEXT = \"Avengers is a \"\n",
    "N_WORDS = 30\n",
    "N_SENTENCES = 2\n",
    "\n",
    "print(\"\\n\".join(learn.predict(TEXT, N_WORDS, temperature=0.75) for _ in range(N_SENTENCES)))\n"
   ]
  },
  {
   "cell_type": "code",
   "execution_count": 19,
   "metadata": {
    "_uuid": "12809af4e0171480114d17afec38a3daac8be92d"
   },
   "outputs": [
    {
     "name": "stdout",
     "output_type": "stream",
     "text": [
      "My sister watched that movie because it 's a great film . \n",
      "  this film opens\n",
      "My sister watched that movie because of her desire to have a comedy and a story\n"
     ]
    }
   ],
   "source": [
    "TEXT = \"My sister watched that movie because\"\n",
    "N_WORDS = 10\n",
    "N_SENTENCES = 2\n",
    "\n",
    "print(\"\\n\".join(learn.predict(TEXT, N_WORDS, temperature=0.75) for _ in range(N_SENTENCES)))\n"
   ]
  },
  {
   "cell_type": "code",
   "execution_count": 20,
   "metadata": {
    "_uuid": "d4dae393095949386ebcd160b58a09a0ee58bb5f"
   },
   "outputs": [],
   "source": [
    "learn.save('/kaggle/working/fine_tuned')"
   ]
  },
  {
   "cell_type": "code",
   "execution_count": 21,
   "metadata": {
    "_uuid": "2eebc8ac4113b9c26ddb292b82d3026638b12c7e"
   },
   "outputs": [],
   "source": [
    "learn.save_encoder('fine_tuned_enc')"
   ]
  },
  {
   "cell_type": "code",
   "execution_count": 22,
   "metadata": {
    "_uuid": "feb00416e4d6df9fa0eae2df2e019a312bbcb151"
   },
   "outputs": [],
   "source": [
    "learn = text_classifier_learner(data, arch=AWD_LSTM, drop_mult=0.3, model_dir=\"/tmp/model/\")"
   ]
  },
  {
   "cell_type": "code",
   "execution_count": 23,
   "metadata": {
    "_uuid": "b8540211def31c158a90250490bad50f10906cca"
   },
   "outputs": [],
   "source": [
    "learn.load_encoder('fine_tuned_enc')\n",
    "learn.freeze()"
   ]
  },
  {
   "cell_type": "code",
   "execution_count": 24,
   "metadata": {
    "_uuid": "6406683d85a2c834f8d9abf36130b9c21efb5ec7"
   },
   "outputs": [
    {
     "data": {
      "text/html": [],
      "text/plain": [
       "<IPython.core.display.HTML object>"
      ]
     },
     "metadata": {},
     "output_type": "display_data"
    },
    {
     "name": "stdout",
     "output_type": "stream",
     "text": [
      "LR Finder is complete, type {learner_name}.recorder.plot() to see the graph.\n"
     ]
    }
   ],
   "source": [
    "learn.lr_find()"
   ]
  },
  {
   "cell_type": "code",
   "execution_count": 25,
   "metadata": {
    "_uuid": "7fae5d963bef55e2dc8efd3a0e6275096a55612e"
   },
   "outputs": [
    {
     "data": {
      "image/png": "[encoded data removed]",
      "text/plain": [
       "<Figure size 432x288 with 1 Axes>"
      ]
     },
     "metadata": {},
     "output_type": "display_data"
    }
   ],
   "source": [
    "learn.recorder.plot()"
   ]
  },
  {
   "cell_type": "code",
   "execution_count": 26,
   "metadata": {
    "_uuid": "aa442e08590278c8007cc3ccf5818749f8b219f2"
   },
   "outputs": [
    {
     "data": {
      "text/html": [
       "Total time: 00:52 <p><table border=\"1\" class=\"dataframe\">\n",
       "  <thead>\n",
       "    <tr style=\"text-align: left;\">\n",
       "      <th>epoch</th>\n",
       "      <th>train_loss</th>\n",
       "      <th>valid_loss</th>\n",
       "      <th>accuracy</th>\n",
       "      <th>time</th>\n",
       "    </tr>\n",
       "  </thead>\n",
       "  <tbody>\n",
       "    <tr>\n",
       "      <td>0</td>\n",
       "      <td>0.542260</td>\n",
       "      <td>0.555401</td>\n",
       "      <td>0.780000</td>\n",
       "      <td>00:25</td>\n",
       "    </tr>\n",
       "    <tr>\n",
       "      <td>1</td>\n",
       "      <td>0.456235</td>\n",
       "      <td>0.376684</td>\n",
       "      <td>0.830000</td>\n",
       "      <td>00:26</td>\n",
       "    </tr>\n",
       "  </tbody>\n",
       "</table>"
      ],
      "text/plain": [
       "<IPython.core.display.HTML object>"
      ]
     },
     "metadata": {},
     "output_type": "display_data"
    }
   ],
   "source": [
    "learn.fit_one_cycle(2, 2e-2, moms=(0.8,0.7))"
   ]
  },
  {
   "cell_type": "code",
   "execution_count": 27,
   "metadata": {
    "_uuid": "75b9a2551a2ee029eebd7c4a65355241a2acceb0"
   },
   "outputs": [],
   "source": [
    "learn.save('/kaggle/working/first')"
   ]
  },
  {
   "cell_type": "code",
   "execution_count": 28,
   "metadata": {
    "_uuid": "9b21094d226add656dfbcbf1c2030cc3b97af910"
   },
   "outputs": [
    {
     "data": {
      "text/html": [
       "Total time: 00:31 <p><table border=\"1\" class=\"dataframe\">\n",
       "  <thead>\n",
       "    <tr style=\"text-align: left;\">\n",
       "      <th>epoch</th>\n",
       "      <th>train_loss</th>\n",
       "      <th>valid_loss</th>\n",
       "      <th>accuracy</th>\n",
       "      <th>time</th>\n",
       "    </tr>\n",
       "  </thead>\n",
       "  <tbody>\n",
       "    <tr>\n",
       "      <td>0</td>\n",
       "      <td>0.409211</td>\n",
       "      <td>0.365711</td>\n",
       "      <td>0.845000</td>\n",
       "      <td>00:31</td>\n",
       "    </tr>\n",
       "  </tbody>\n",
       "</table>"
      ],
      "text/plain": [
       "<IPython.core.display.HTML object>"
      ]
     },
     "metadata": {},
     "output_type": "display_data"
    }
   ],
   "source": [
    "learn.freeze_to(-2)\n",
    "learn.fit_one_cycle(1, slice(1e-2/(2.6**4),1e-2), moms=(0.8,0.7))"
   ]
  },
  {
   "cell_type": "code",
   "execution_count": 29,
   "metadata": {
    "_uuid": "9b63a8e0e986cb60e10058b80d2e9ea5d29b4fd8"
   },
   "outputs": [],
   "source": [
    "learn.save('/kaggle/working/second')"
   ]
  },
  {
   "cell_type": "code",
   "execution_count": 30,
   "metadata": {
    "_uuid": "7f9446313890da72e88be3148dd2b03c97ea2f32"
   },
   "outputs": [
    {
     "data": {
      "text/html": [
       "Total time: 00:46 <p><table border=\"1\" class=\"dataframe\">\n",
       "  <thead>\n",
       "    <tr style=\"text-align: left;\">\n",
       "      <th>epoch</th>\n",
       "      <th>train_loss</th>\n",
       "      <th>valid_loss</th>\n",
       "      <th>accuracy</th>\n",
       "      <th>time</th>\n",
       "    </tr>\n",
       "  </thead>\n",
       "  <tbody>\n",
       "    <tr>\n",
       "      <td>0</td>\n",
       "      <td>0.305756</td>\n",
       "      <td>0.284292</td>\n",
       "      <td>0.895000</td>\n",
       "      <td>00:46</td>\n",
       "    </tr>\n",
       "  </tbody>\n",
       "</table>"
      ],
      "text/plain": [
       "<IPython.core.display.HTML object>"
      ]
     },
     "metadata": {},
     "output_type": "display_data"
    }
   ],
   "source": [
    "learn.freeze_to(-3)\n",
    "learn.fit_one_cycle(1, slice(5e-3/(2.6**4),5e-3), moms=(0.8,0.7))"
   ]
  },
  {
   "cell_type": "code",
   "execution_count": 31,
   "metadata": {
    "_uuid": "7e3aee714a684d210d8f929b4f66e3e725aa8a53"
   },
   "outputs": [],
   "source": [
    "learn.save('/kaggle/working/third')"
   ]
  },
  {
   "cell_type": "code",
   "execution_count": 32,
   "metadata": {
    "_uuid": "d80f11b5a42d2531e2eb4169feecd41acff72f04"
   },
   "outputs": [
    {
     "data": {
      "text/html": [
       "Total time: 01:55 <p><table border=\"1\" class=\"dataframe\">\n",
       "  <thead>\n",
       "    <tr style=\"text-align: left;\">\n",
       "      <th>epoch</th>\n",
       "      <th>train_loss</th>\n",
       "      <th>valid_loss</th>\n",
       "      <th>accuracy</th>\n",
       "      <th>time</th>\n",
       "    </tr>\n",
       "  </thead>\n",
       "  <tbody>\n",
       "    <tr>\n",
       "      <td>0</td>\n",
       "      <td>0.250906</td>\n",
       "      <td>0.247524</td>\n",
       "      <td>0.910000</td>\n",
       "      <td>00:58</td>\n",
       "    </tr>\n",
       "    <tr>\n",
       "      <td>1</td>\n",
       "      <td>0.224148</td>\n",
       "      <td>0.236824</td>\n",
       "      <td>0.925000</td>\n",
       "      <td>00:56</td>\n",
       "    </tr>\n",
       "  </tbody>\n",
       "</table>"
      ],
      "text/plain": [
       "<IPython.core.display.HTML object>"
      ]
     },
     "metadata": {},
     "output_type": "display_data"
    }
   ],
   "source": [
    "learn.unfreeze()\n",
    "learn.fit_one_cycle(2, slice(1e-3/(2.6**4),1e-3), moms=(0.8,0.7))"
   ]
  },
  {
   "cell_type": "code",
   "execution_count": 33,
   "metadata": {
    "_uuid": "4add4282a3e4dceb67a731540d83a5afb46d9cbe"
   },
   "outputs": [],
   "source": [
    "learn.save('/kaggle/working/fourth')"
   ]
  },
  {
   "cell_type": "code",
   "execution_count": 34,
   "metadata": {
    "_uuid": "b01e47bef415de68d5962f7e70c6ff4b39b6e912"
   },
   "outputs": [
    {
     "data": {
      "text/plain": [
       "(Category pos, tensor(1), tensor([0.0081, 0.9919]))"
      ]
     },
     "execution_count": 34,
     "metadata": {},
     "output_type": "execute_result"
    }
   ],
   "source": [
    "learn.predict(\"I really loved that movie, it was awesome!\")"
   ]
  },
  {
   "cell_type": "code",
   "execution_count": 35,
   "metadata": {
    "_uuid": "116528dbd274bc87a64aff50786e08cfdad77c46"
   },
   "outputs": [
    {
     "data": {
      "text/plain": [
       "(Category neg, tensor(0), tensor([0.9002, 0.0998]))"
      ]
     },
     "execution_count": 35,
     "metadata": {},
     "output_type": "execute_result"
    }
   ],
   "source": [
    "learn.predict(\"The movie is disappointing\")"
   ]
  },
  {
   "cell_type": "code",
   "execution_count": 36,
   "metadata": {
    "_uuid": "a8e59a923ed9d348e4239fe470afbdb5f6a9cc93"
   },
   "outputs": [
    {
     "data": {
      "text/plain": [
       "(Category neg, tensor(0), tensor([0.9976, 0.0024]))"
      ]
     },
     "execution_count": 36,
     "metadata": {},
     "output_type": "execute_result"
    }
   ],
   "source": [
    "learn.predict(\"I would not recommend this movie to anyone\")"
   ]
  },
  {
   "cell_type": "code",
   "execution_count": 37,
   "metadata": {
    "_uuid": "e24c17105764010726f955ba313e3d50f94aa608"
   },
   "outputs": [
    {
     "data": {
      "text/plain": [
       "(Category neg, tensor(0), tensor([0.9243, 0.0757]))"
      ]
     },
     "execution_count": 37,
     "metadata": {},
     "output_type": "execute_result"
    }
   ],
   "source": [
    "learn.predict(\"The movie was okay\")"
   ]
  },
  {
   "cell_type": "code",
   "execution_count": 38,
   "metadata": {
    "_uuid": "3cceed0e5be91901ea230f9cf8ab2f86f14e0d29"
   },
   "outputs": [
    {
     "data": {
      "text/plain": [
       "(Category neg, tensor(0), tensor([0.9694, 0.0306]))"
      ]
     },
     "execution_count": 38,
     "metadata": {},
     "output_type": "execute_result"
    }
   ],
   "source": [
    "learn.predict(\"I would feel sorry for anyone watching this movie\")"
   ]
  },
  {
   "cell_type": "code",
   "execution_count": 39,
   "metadata": {
    "_uuid": "8e7bf28384f848a02c9adba6237d9193838640e1"
   },
   "outputs": [
    {
     "data": {
      "text/plain": [
       "(Category neg, tensor(0), tensor([0.9609, 0.0391]))"
      ]
     },
     "execution_count": 39,
     "metadata": {},
     "output_type": "execute_result"
    }
   ],
   "source": [
    "learn.predict(\"The direction was horrible\")"
   ]
  },
  {
   "cell_type": "code",
   "execution_count": 40,
   "metadata": {
    "_uuid": "04f5d14fcd9e42ec17de2a50d54996c51cd77899"
   },
   "outputs": [
    {
     "data": {
      "text/plain": [
       "(Category neg, tensor(0), tensor([0.9915, 0.0085]))"
      ]
     },
     "execution_count": 40,
     "metadata": {},
     "output_type": "execute_result"
    }
   ],
   "source": [
    "learn.predict(\"One would not be disappointed watching the movie.\")"
   ]
  },
  {
   "cell_type": "code",
   "execution_count": 41,
   "metadata": {
    "_uuid": "84a6bf6cda901ed5c1ce175001609976b431713e"
   },
   "outputs": [
    {
     "data": {
      "text/plain": [
       "(Category neg, tensor(0), tensor([0.8470, 0.1530]))"
      ]
     },
     "execution_count": 41,
     "metadata": {},
     "output_type": "execute_result"
    }
   ],
   "source": [
    "learn.predict(\"One would not be disappointed watching the movie. I especially loved the part when the protagonist goes for a retreat and finds all his answers\")"
   ]
  }
 ],
 "metadata": {
  "kernelspec": {
   "display_name": "Python 3",
   "language": "python",
   "name": "python3"
  },
  "language_info": {
   "codemirror_mode": {
    "name": "ipython",
    "version": 3
   },
   "file_extension": ".py",
   "mimetype": "text/x-python",
   "name": "python",
   "nbconvert_exporter": "python",
   "pygments_lexer": "ipython3",
   "version": "3.6.6"
  }
 },
 "nbformat": 4,
 "nbformat_minor": 1
}
